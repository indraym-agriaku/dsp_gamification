{
 "cells": [
  {
   "cell_type": "code",
   "execution_count": 1,
   "id": "7ee98ee2-f04c-4ba6-8aad-58610ecb5771",
   "metadata": {},
   "outputs": [],
   "source": [
    "import os \n",
    "os.chdir(os.path.dirname(os.getcwd()))"
   ]
  },
  {
   "cell_type": "code",
   "execution_count": 2,
   "id": "aefed8ac-4d0c-47fc-85b9-4b5f10cdfdb5",
   "metadata": {},
   "outputs": [],
   "source": [
    "\n",
    "from credential_accessor import CredentialAccessor \n",
    "from dao.google_bigquery import GoogleBigQuery as gbq \n",
    "\n",
    "creds_accessor = CredentialAccessor(env = \"prod\", on_server= False)\n",
    "myGBQ = gbq(attr = creds_accessor.get_attr())\n",
    "\n",
    "\n",
    "from datetime import datetime, date, timedelta\n",
    "from dateutil.relativedelta import relativedelta\n",
    "\n",
    "import pandas as pd \n",
    "import numpy as np \n",
    "import matplotlib.pyplot as plt\n",
    "import itertools\n",
    "import random\n",
    "from random_batch import *"
   ]
  },
  {
   "cell_type": "code",
   "execution_count": 6,
   "id": "4aaa2012-3285-450d-8115-3a3dd835b571",
   "metadata": {},
   "outputs": [
    {
     "name": "stdout",
     "output_type": "stream",
     "text": [
      "Product array for this arrangement was already done at : /srv/ds_project/Indra_proj/dsp_gamification_experiment/outputs/random_prd_arr_id/n10_appear3_setsize3.pickle\n",
      "Batches for this group :\n",
      "[[6 2 8]\n",
      " [3 5 8]\n",
      " [0 4 1]\n",
      " [0 7 6]\n",
      " [3 2 0]\n",
      " [3 1 9]\n",
      " [6 5 4]\n",
      " [7 2 5]\n",
      " [7 9 8]\n",
      " [9 4 1]]\n",
      "Bincount :\n",
      "[0 1 2 3 4 5 6 7 8 9]\n",
      "[3 3 3 3 3 3 3 3 3 3]\n"
     ]
    }
   ],
   "source": [
    "random_batch,bincount_=create_random_set(10)\n",
    "print(f'Batches for this group :\\n{random_batch}\\nBincount :\\n{np.arange(10)}\\n{bincount_}')"
   ]
  },
  {
   "cell_type": "code",
   "execution_count": 56,
   "id": "4f372c27-32e3-4b37-ae7a-decdc8874909",
   "metadata": {},
   "outputs": [],
   "source": [
    "def random_diagonal(n_row = 15, *args, **kwargs):\n",
    "    arr = np.ones([n_row,n_row])*-1\n",
    "    list_id = list(np.arange(n_row))\n",
    "    for i in range(n_row):\n",
    "        arr[:,i] = list_id \n",
    "        list_id = shift_right_list(list_id)\n",
    "    return arr.astype(int)\n",
    "s = random_diagonal(14)"
   ]
  },
  {
   "cell_type": "code",
   "execution_count": 57,
   "id": "69b2de0f-f7b8-401b-b4e6-cda411031d96",
   "metadata": {},
   "outputs": [
    {
     "name": "stdout",
     "output_type": "stream",
     "text": [
      "[[ 0 13 12 11 10  9  8  7  6  5  4  3  2  1]\n",
      " [ 1  0 13 12 11 10  9  8  7  6  5  4  3  2]\n",
      " [ 2  1  0 13 12 11 10  9  8  7  6  5  4  3]\n",
      " [ 3  2  1  0 13 12 11 10  9  8  7  6  5  4]\n",
      " [ 4  3  2  1  0 13 12 11 10  9  8  7  6  5]\n",
      " [ 5  4  3  2  1  0 13 12 11 10  9  8  7  6]\n",
      " [ 6  5  4  3  2  1  0 13 12 11 10  9  8  7]\n",
      " [ 7  6  5  4  3  2  1  0 13 12 11 10  9  8]\n",
      " [ 8  7  6  5  4  3  2  1  0 13 12 11 10  9]\n",
      " [ 9  8  7  6  5  4  3  2  1  0 13 12 11 10]\n",
      " [10  9  8  7  6  5  4  3  2  1  0 13 12 11]\n",
      " [11 10  9  8  7  6  5  4  3  2  1  0 13 12]\n",
      " [12 11 10  9  8  7  6  5  4  3  2  1  0 13]\n",
      " [13 12 11 10  9  8  7  6  5  4  3  2  1  0]]\n"
     ]
    }
   ],
   "source": [
    "print(s)"
   ]
  },
  {
   "cell_type": "code",
   "execution_count": 44,
   "id": "45196eef-b7b5-4061-83cb-b6d85b48173a",
   "metadata": {},
   "outputs": [
    {
     "data": {
      "text/plain": [
       "array([20,  1,  2,  3,  4,  5,  6,  7,  8,  9, 10, 11, 12, 13, 14, 15, 16,\n",
       "       17, 18, 19])"
      ]
     },
     "execution_count": 44,
     "metadata": {},
     "output_type": "execute_result"
    }
   ],
   "source": [
    "np.array(shift_right_list(list(np.arange(20))))+1"
   ]
  },
  {
   "cell_type": "code",
   "execution_count": 145,
   "id": "0db138ea-f01a-4588-b97f-d18781eea4e7",
   "metadata": {},
   "outputs": [],
   "source": [
    "def split_array(arr : np.array, set_max : bool = None, n_groups : int = None):\n",
    "    if n_groups is not None :\n",
    "        if n_groups > arr.shape[0] :\n",
    "            raise ValueError(\"The number of groups is more than number of items\")\n",
    "        else :\n",
    "            return np.array_split(arr,n_groups)\n",
    "    if set_max is not None :\n",
    "        if set_max > arr.shape[0] :\n",
    "            raise ValueError(\"The number of groups is more than number of items\")\n",
    "        else : \n",
    "            n_groups = int(np.ceil(arr.shape[0]/set_max))\n",
    "            split_index = [int(set_max*i) for i in range(1,n_groups+1)]\n",
    "            split_index[-1] = arr.shape[0]\n",
    "            splitted_arr = np.split(arr,split_index)\n",
    "            delete_last_items_ = splitted_arr.pop()\n",
    "            return splitted_arr\n",
    "        \n",
    "            "
   ]
  },
  {
   "cell_type": "code",
   "execution_count": 161,
   "id": "efe3b2d4-ca19-4fa4-a669-6a937c63f1cd",
   "metadata": {},
   "outputs": [
    {
     "data": {
      "text/plain": [
       "[array([0, 1, 2, 3]), array([4, 5, 6, 7]), array([ 8,  9, 10])]"
      ]
     },
     "execution_count": 161,
     "metadata": {},
     "output_type": "execute_result"
    }
   ],
   "source": [
    "split_array([f'BOCIMI_{str(x).zfill(2)}' for x in range,n_groups=3)"
   ]
  },
  {
   "cell_type": "code",
   "execution_count": 138,
   "id": "2838d670-a0b1-4810-a5dd-f38d86d4ceba",
   "metadata": {},
   "outputs": [
    {
     "data": {
      "text/plain": [
       "[array([0, 1]),\n",
       " array([2, 3]),\n",
       " array([4, 5]),\n",
       " array([6, 7]),\n",
       " array([8]),\n",
       " array([9]),\n",
       " array([10])]"
      ]
     },
     "execution_count": 138,
     "metadata": {},
     "output_type": "execute_result"
    }
   ],
   "source": [
    "np.array_split(np.arange(11),7)"
   ]
  },
  {
   "cell_type": "code",
   "execution_count": 9,
   "id": "eac2b3f9-94bb-45bc-b776-1f891183a408",
   "metadata": {},
   "outputs": [
    {
     "data": {
      "text/plain": [
       "array([0, 1, 2])"
      ]
     },
     "execution_count": 9,
     "metadata": {},
     "output_type": "execute_result"
    }
   ],
   "source": [
    "np.arange(0,3,1)"
   ]
  },
  {
   "cell_type": "code",
   "execution_count": 41,
   "id": "b710b21f-8a41-4a9d-bb2d-ae88ab6ad76c",
   "metadata": {},
   "outputs": [
    {
     "data": {
      "text/plain": [
       "array([2, 4, 6])"
      ]
     },
     "execution_count": 41,
     "metadata": {},
     "output_type": "execute_result"
    }
   ],
   "source": [
    "np.arange(2,7,2)"
   ]
  },
  {
   "cell_type": "code",
   "execution_count": 91,
   "id": "3d73334f-892d-4b83-818c-b53b8b9e2f43",
   "metadata": {},
   "outputs": [
    {
     "name": "stdout",
     "output_type": "stream",
     "text": [
      "1\n",
      "2\n",
      "3\n",
      "4\n"
     ]
    }
   ],
   "source": [
    "for i in range(1,5):\n",
    "    print(i)"
   ]
  },
  {
   "cell_type": "code",
   "execution_count": 153,
   "id": "5e65f345-188e-49f5-9b52-d6ca6bbd6fe5",
   "metadata": {},
   "outputs": [
    {
     "data": {
      "text/plain": [
       "'1245'"
      ]
     },
     "execution_count": 153,
     "metadata": {},
     "output_type": "execute_result"
    }
   ],
   "source": [
    "'1245'.zfill(2)"
   ]
  },
  {
   "cell_type": "code",
   "execution_count": 160,
   "id": "2e1394ea-c69f-480a-a736-f7b07b85d053",
   "metadata": {},
   "outputs": [
    {
     "data": {
      "text/plain": [
       "(array([3]),)"
      ]
     },
     "execution_count": 160,
     "metadata": {},
     "output_type": "execute_result"
    }
   ],
   "source": [
    "np.where(np.bincount([1,3,4,3,5])==2)"
   ]
  },
  {
   "cell_type": "code",
   "execution_count": 168,
   "id": "bca1f048-b29c-4f85-b559-45b0b1790e4f",
   "metadata": {},
   "outputs": [
    {
     "name": "stdout",
     "output_type": "stream",
     "text": [
      "1\n",
      "2\n",
      "3\n",
      "4\n"
     ]
    }
   ],
   "source": [
    "for x in [np.array([1]),np.array([2,3,4])]:\n",
    "    for j in x:\n",
    "        print(j)"
   ]
  },
  {
   "cell_type": "code",
   "execution_count": null,
   "id": "a1e6f2ae-d80b-4b59-a0b7-7f475feda2e7",
   "metadata": {},
   "outputs": [],
   "source": []
  }
 ],
 "metadata": {
  "kernelspec": {
   "display_name": "venv_gamification_experiment",
   "language": "python",
   "name": "venv_gamification_experiment"
  },
  "language_info": {
   "codemirror_mode": {
    "name": "ipython",
    "version": 3
   },
   "file_extension": ".py",
   "mimetype": "text/x-python",
   "name": "python",
   "nbconvert_exporter": "python",
   "pygments_lexer": "ipython3",
   "version": "3.8.10"
  }
 },
 "nbformat": 4,
 "nbformat_minor": 5
}
