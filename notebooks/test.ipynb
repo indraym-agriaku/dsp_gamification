{
 "cells": [
  {
   "cell_type": "code",
   "execution_count": 1,
   "id": "a4b4c71e-aeb3-4970-8648-8d56f407779a",
   "metadata": {},
   "outputs": [],
   "source": [
    "import os \n",
    "os.chdir(os.path.dirname(os.getcwd()))"
   ]
  },
  {
   "cell_type": "code",
   "execution_count": 2,
   "id": "1ba63fab-9e17-4544-b45c-b4d07b231407",
   "metadata": {},
   "outputs": [],
   "source": [
    "\n",
    "from credential_accessor import CredentialAccessor \n",
    "from dao.google_bigquery import GoogleBigQuery as gbq \n",
    "\n",
    "creds_accessor = CredentialAccessor(env = \"prod\", on_server= False)\n",
    "myGBQ = gbq(attr = creds_accessor.get_attr())\n",
    "\n",
    "\n",
    "from datetime import datetime, date, timedelta\n",
    "from dateutil.relativedelta import relativedelta\n",
    "\n",
    "import pandas as pd \n",
    "import numpy as np \n",
    "import matplotlib.pyplot as plt\n",
    "import itertools\n",
    "import random"
   ]
  },
  {
   "cell_type": "code",
   "execution_count": 4,
   "id": "2b893bd8-a486-45c4-bcf4-665ad919777f",
   "metadata": {},
   "outputs": [
    {
     "data": {
      "text/plain": [
       "datetime.datetime(2024, 2, 19, 16, 37, 23, 852756)"
      ]
     },
     "execution_count": 4,
     "metadata": {},
     "output_type": "execute_result"
    }
   ],
   "source": [
    "from datetime import datetime\n",
    "datetime.now()"
   ]
  },
  {
   "cell_type": "code",
   "execution_count": 9,
   "id": "84a8fc8c-4f9d-4708-95c5-d1e56cc3b0c6",
   "metadata": {},
   "outputs": [
    {
     "data": {
      "text/plain": [
       "array([[21,  3, 12],\n",
       "       [12,  3, 21]])"
      ]
     },
     "execution_count": 9,
     "metadata": {},
     "output_type": "execute_result"
    }
   ],
   "source": [
    "import numpy as np\n",
    "a= np.array([21,21,3,12,31])\n",
    "list_ = np.array([[1,2,3],[3,2,1]])\n",
    "a[list_]"
   ]
  },
  {
   "cell_type": "markdown",
   "id": "aba2b745-1787-4e57-96ef-92fe12cfb955",
   "metadata": {},
   "source": [
    "### Num. pareto per cluster"
   ]
  },
  {
   "cell_type": "code",
   "execution_count": 3,
   "id": "02f1bdf1-64ff-47d1-8ccf-bff4d482954c",
   "metadata": {},
   "outputs": [
    {
     "data": {
      "text/html": [
       "<div>\n",
       "<style scoped>\n",
       "    .dataframe tbody tr th:only-of-type {\n",
       "        vertical-align: middle;\n",
       "    }\n",
       "\n",
       "    .dataframe tbody tr th {\n",
       "        vertical-align: top;\n",
       "    }\n",
       "\n",
       "    .dataframe thead th {\n",
       "        text-align: right;\n",
       "    }\n",
       "</style>\n",
       "<table border=\"1\" class=\"dataframe\">\n",
       "  <thead>\n",
       "    <tr style=\"text-align: right;\">\n",
       "      <th></th>\n",
       "      <th>cluster</th>\n",
       "      <th>count_pareto_prd</th>\n",
       "    </tr>\n",
       "  </thead>\n",
       "  <tbody>\n",
       "    <tr>\n",
       "      <th>0</th>\n",
       "      <td>Madura</td>\n",
       "      <td>31</td>\n",
       "    </tr>\n",
       "    <tr>\n",
       "      <th>1</th>\n",
       "      <td>GSM</td>\n",
       "      <td>99</td>\n",
       "    </tr>\n",
       "    <tr>\n",
       "      <th>2</th>\n",
       "      <td>JLB</td>\n",
       "      <td>149</td>\n",
       "    </tr>\n",
       "    <tr>\n",
       "      <th>3</th>\n",
       "      <td>PML</td>\n",
       "      <td>106</td>\n",
       "    </tr>\n",
       "    <tr>\n",
       "      <th>4</th>\n",
       "      <td>PSB</td>\n",
       "      <td>110</td>\n",
       "    </tr>\n",
       "    <tr>\n",
       "      <th>5</th>\n",
       "      <td>Bocimi</td>\n",
       "      <td>168</td>\n",
       "    </tr>\n",
       "    <tr>\n",
       "      <th>6</th>\n",
       "      <td>Kapursub</td>\n",
       "      <td>138</td>\n",
       "    </tr>\n",
       "    <tr>\n",
       "      <th>7</th>\n",
       "      <td>Bandung Raya</td>\n",
       "      <td>199</td>\n",
       "    </tr>\n",
       "    <tr>\n",
       "      <th>8</th>\n",
       "      <td>Ciayumajakuning</td>\n",
       "      <td>171</td>\n",
       "    </tr>\n",
       "    <tr>\n",
       "      <th>9</th>\n",
       "      <td>Priangan Timur 1</td>\n",
       "      <td>157</td>\n",
       "    </tr>\n",
       "    <tr>\n",
       "      <th>10</th>\n",
       "      <td>Priangan Timur 2</td>\n",
       "      <td>102</td>\n",
       "    </tr>\n",
       "  </tbody>\n",
       "</table>\n",
       "</div>"
      ],
      "text/plain": [
       "             cluster  count_pareto_prd\n",
       "0             Madura                31\n",
       "1                GSM                99\n",
       "2                JLB               149\n",
       "3                PML               106\n",
       "4                PSB               110\n",
       "5             Bocimi               168\n",
       "6           Kapursub               138\n",
       "7       Bandung Raya               199\n",
       "8    Ciayumajakuning               171\n",
       "9   Priangan Timur 1               157\n",
       "10  Priangan Timur 2               102"
      ]
     },
     "execution_count": 3,
     "metadata": {},
     "output_type": "execute_result"
    }
   ],
   "source": [
    "with open(os.path.join('queries','test_count.sql'),'r') as f:\n",
    "    pareto_per_cluster = myGBQ.gbq_read(f.read())\n",
    "pareto_per_cluster"
   ]
  },
  {
   "cell_type": "code",
   "execution_count": 4,
   "id": "f6703673-5e0f-450b-9b64-af25aef8bd52",
   "metadata": {},
   "outputs": [],
   "source": [
    "def get_pareto(myGBQ, cluster_name : str, N_prd = 150,*args, **kwargs) -> np.array :\n",
    "    with open(os.path.join(os.getcwd(),'queries','list_pareto.sql'),'r') as f:\n",
    "        q_ = f.read()\n",
    "    q_ = q_.format(cluster_name = cluster_name,N_prd = N_prd)\n",
    "    df = myGBQ.gbq_read(q_)\n",
    "    return df.prd_id.to_numpy()\n",
    "def get_non_pareto(myGBQ, cluster_name : str, DATETIME_TRX_END : str, DATETIME_TRX_START : str, N_prd = 150,*args, **kwargs) -> np.array :\n",
    "    with open(os.path.join(os.getcwd(),'queries','list_non_pareto.sql'),'r') as f:\n",
    "        q_ = f.read()\n",
    "    q_ = q_.format(cluster_name = cluster_name,N_prd = N_prd, START_TRX_PERIOD = DATETIME_TRX_START, END_TRX_PERIOD = DATETIME_TRX_END)\n",
    "    df = myGBQ.gbq_read(q_)\n",
    "    return df.prd_id.to_numpy()\n",
    "    "
   ]
  },
  {
   "cell_type": "code",
   "execution_count": 37,
   "id": "b3efe5f5-bce3-4f37-bd7c-047a5ab842f3",
   "metadata": {},
   "outputs": [],
   "source": [
    "DATETIME_TRX_END = datetime.now().strftime(\"%Y-%m-%d\")\n",
    "DATETIME_TRX_START= (datetime.now()+relativedelta(months=-3)).strftime(\"%Y-%m-%d\")\n",
    "\n",
    "#Get pareto and non_pareto group products (for pareto groups > 150)\n",
    "non_pareto = get_non_pareto(myGBQ,cluster_name = \"Bocimi\",DATETIME_TRX_END = DATETIME_TRX_END, DATETIME_TRX_START=DATETIME_TRX_START)\n",
    "pareto = get_pareto(myGBQ,cluster_name = \"Bocimi\")\n",
    "\n",
    "#Split them and create \n",
    "\n",
    "def create_group_products(pareto,non_pareto,n_groups=15):\n",
    "    pareto_permute_set = np.split(np.random.permutation(pareto),15)\n",
    "    non_pareto_permute_set = np.split(np.random.permutation(non_pareto),15)\n",
    "    group_products = np.zeros([n_groups,int((len(pareto)+len(non_pareto))/n_groups)])\n",
    "    for idx,i in enumerate(zip(pareto_permute_set,non_pareto_permute_set)):\n",
    "        group_products[idx,:] = np.random.permutation(np.concatenate([i[0],i[1]]))\n",
    "    return group_products.astype(int)\n",
    "\n",
    "random_basic = np.arange(20).astype(int)\n",
    "\n",
    "def shift_right_list(list_):\n",
    "    return [list_[-1]] + list_[:-1]\n",
    "\n",
    "def create_random_set(arr, min_appear=3,set_size=9, *args, **kwargs):\n",
    "    # Oversampling the list\n",
    "    len_arr = len(arr)\n",
    "    arr_sample = np.array(list(arr)*min_appear)\n",
    "    len_arr_sample = len(arr_sample)\n",
    "    mod_resid = len_arr_sample%set_size\n",
    "    \n",
    "    # Random sorting the list\n",
    "    arr_sample = list(np.random.permutation(np.concatenate([arr_sample,np.random.choice(arr,set_size-mod_resid)])))\n",
    "    print(f\"Unordered pool :{arr_sample}\")\n",
    "    arranged_sample = np.zeros([int(len(arr_sample)/set_size),set_size])\n",
    "    \n",
    "    #Sort the list so that no set has two or more identical items.\n",
    "    max_trials = set_size #Maximum trials for shifting \n",
    "    \n",
    "    for i in range(arranged_sample.shape[0]):\n",
    "        print(f\"Creating product batch {i+1} ...\")\n",
    "        observed_list = arr_sample[set_size*i:(set_size*(i+1))] #create the chunk\n",
    "        print(f\"Unordered product batch {i+1} : {observed_list}\")\n",
    "        \n",
    "        if i < arranged_sample.shape[0]-1 :\n",
    "            for j in range(len(observed_list)):\n",
    "                if len(observed_list[:j+1])==len(set(observed_list[:j+1])) : #No two or more identical items\n",
    "                    print(f\"Ordering product batch {i+1} : {observed_list[:j+1]}\")\n",
    "                else : # Identical items are found, shifting pool and the chunk\n",
    "                    print(f\"{observed_list[j]} already existed, replace this item by shifting the pool!\")\n",
    "                    trials = 0\n",
    "                    while trials <= max_trials :\n",
    "                        trials = trials + 1\n",
    "                        print(f'Conducting trial {trials}...')\n",
    "                        arr_sample = arr_sample[:(set_size*i+j)] + shift_right_list(arr_sample[(set_size*i+j):]) #Last element of the pool become the very first element in the observation\n",
    "                        print(f\"Pool has been ordered : {arr_sample}\")\n",
    "                        observed_list[j:] = arr_sample[(set_size*i+j):(set_size*(i+1))]\n",
    "                        \n",
    "                        if len(observed_list[:j+1])==len(set(observed_list[:j+1])) : \n",
    "                            print(f\"Ordering product batch {i+1} : {observed_list[:j+1]}\")\n",
    "                            break \n",
    "                        else  : \n",
    "                            pass\n",
    "        else : \n",
    "            print(f\"Creating last product batch...\")\n",
    "            # Check if the sorting is possible \n",
    "            observed_list_arr = np.array(observed_list)\n",
    "            bincount_last_batch = np.bincount(observed_list_arr)\n",
    "            problematic_items = np.where(bincount_last_batch == 2)[0]\n",
    "            for items_ in problematic_items:\n",
    "                print(f\"{items_} is found having duplicate, fixing this issue...\") #Do resampling if an issue is found\n",
    "                location_items = np.where(observed_list_arr == items_)[0]\n",
    "                observed_list_arr[location_items[0]] = np.random.choice(arr[~np.isin(arr,np.array(list(set(observed_list_arr))))])\n",
    "                print(f\"Ordering product batch {i+1} : {observed_list_arr}\")\n",
    "            print(f\"Ordering product batch {i+1} : {observed_list_arr}\")\n",
    "            observed_list = list(observed_list_arr)\n",
    "            arr_sample[set_size*i:(set_size*(i+1))] = observed_list\n",
    "                \n",
    "                \n",
    "            \n",
    "        arranged_sample[i,:] = np.array(observed_list)\n",
    "                    \n",
    "    return arranged_sample.astype(int), np.bincount(np.array(arr_sample))\n",
    "\n",
    "def check_row_similarity(arr_ : np.array, *args, **kwargs) :\n",
    "    n_row = arr_.shape[0]\n",
    "    pool_ = np.arange(n_row)\n",
    "    val_ = False\n",
    "    for i in itertools.combinations(pool_,2):\n",
    "        if set(arr_[i[0],:]) == set(arr_[i[1],:]):\n",
    "            val_ = True \n",
    "            break\n",
    "    return val_\n",
    "        \n",
    "    \n",
    "\n"
   ]
  },
  {
   "cell_type": "code",
   "execution_count": 60,
   "id": "0ecac3e2-b1b0-49ae-b21e-22a3950cc862",
   "metadata": {},
   "outputs": [
    {
     "data": {
      "text/plain": [
       "True"
      ]
     },
     "execution_count": 60,
     "metadata": {},
     "output_type": "execute_result"
    }
   ],
   "source": [
    "True or False"
   ]
  },
  {
   "cell_type": "code",
   "execution_count": 48,
   "id": "cbe01144-a78d-4f5b-b72c-3d77df268f0e",
   "metadata": {},
   "outputs": [
    {
     "name": "stdout",
     "output_type": "stream",
     "text": [
      "Unordered pool :[14, 9, 2, 4, 12, 4, 1, 6, 19, 6, 3, 3, 12, 5, 13, 13, 16, 9, 11, 4, 8, 2, 16, 17, 5, 11, 13, 10, 16, 14, 1, 8, 6, 17, 10, 1, 19, 18, 11, 2, 15, 8, 15, 0, 17, 12, 19, 3, 7, 9, 0, 18, 16, 7, 15, 14, 18, 11, 10, 5, 7, 0, 5]\n",
      "Creating product batch 1 ...\n",
      "Unordered product batch 1 : [14, 9, 2, 4, 12, 4, 1, 6, 19]\n",
      "Ordering product batch 1 : [14]\n",
      "Ordering product batch 1 : [14, 9]\n",
      "Ordering product batch 1 : [14, 9, 2]\n",
      "Ordering product batch 1 : [14, 9, 2, 4]\n",
      "Ordering product batch 1 : [14, 9, 2, 4, 12]\n",
      "4 already existed, replace this item by shifting the pool!\n",
      "Conducting trial 1...\n",
      "Pool has been ordered : [14, 9, 2, 4, 12, 5, 4, 1, 6, 19, 6, 3, 3, 12, 5, 13, 13, 16, 9, 11, 4, 8, 2, 16, 17, 5, 11, 13, 10, 16, 14, 1, 8, 6, 17, 10, 1, 19, 18, 11, 2, 15, 8, 15, 0, 17, 12, 19, 3, 7, 9, 0, 18, 16, 7, 15, 14, 18, 11, 10, 5, 7, 0]\n",
      "Ordering product batch 1 : [14, 9, 2, 4, 12, 5]\n",
      "4 already existed, replace this item by shifting the pool!\n",
      "Conducting trial 1...\n",
      "Pool has been ordered : [14, 9, 2, 4, 12, 5, 0, 4, 1, 6, 19, 6, 3, 3, 12, 5, 13, 13, 16, 9, 11, 4, 8, 2, 16, 17, 5, 11, 13, 10, 16, 14, 1, 8, 6, 17, 10, 1, 19, 18, 11, 2, 15, 8, 15, 0, 17, 12, 19, 3, 7, 9, 0, 18, 16, 7, 15, 14, 18, 11, 10, 5, 7]\n",
      "Ordering product batch 1 : [14, 9, 2, 4, 12, 5, 0]\n",
      "4 already existed, replace this item by shifting the pool!\n",
      "Conducting trial 1...\n",
      "Pool has been ordered : [14, 9, 2, 4, 12, 5, 0, 7, 4, 1, 6, 19, 6, 3, 3, 12, 5, 13, 13, 16, 9, 11, 4, 8, 2, 16, 17, 5, 11, 13, 10, 16, 14, 1, 8, 6, 17, 10, 1, 19, 18, 11, 2, 15, 8, 15, 0, 17, 12, 19, 3, 7, 9, 0, 18, 16, 7, 15, 14, 18, 11, 10, 5]\n",
      "Ordering product batch 1 : [14, 9, 2, 4, 12, 5, 0, 7]\n",
      "4 already existed, replace this item by shifting the pool!\n",
      "Conducting trial 1...\n",
      "Pool has been ordered : [14, 9, 2, 4, 12, 5, 0, 7, 5, 4, 1, 6, 19, 6, 3, 3, 12, 5, 13, 13, 16, 9, 11, 4, 8, 2, 16, 17, 5, 11, 13, 10, 16, 14, 1, 8, 6, 17, 10, 1, 19, 18, 11, 2, 15, 8, 15, 0, 17, 12, 19, 3, 7, 9, 0, 18, 16, 7, 15, 14, 18, 11, 10]\n",
      "Conducting trial 2...\n",
      "Pool has been ordered : [14, 9, 2, 4, 12, 5, 0, 7, 10, 5, 4, 1, 6, 19, 6, 3, 3, 12, 5, 13, 13, 16, 9, 11, 4, 8, 2, 16, 17, 5, 11, 13, 10, 16, 14, 1, 8, 6, 17, 10, 1, 19, 18, 11, 2, 15, 8, 15, 0, 17, 12, 19, 3, 7, 9, 0, 18, 16, 7, 15, 14, 18, 11]\n",
      "Ordering product batch 1 : [14, 9, 2, 4, 12, 5, 0, 7, 10]\n",
      "Creating product batch 2 ...\n",
      "Unordered product batch 2 : [5, 4, 1, 6, 19, 6, 3, 3, 12]\n",
      "Ordering product batch 2 : [5]\n",
      "Ordering product batch 2 : [5, 4]\n",
      "Ordering product batch 2 : [5, 4, 1]\n",
      "Ordering product batch 2 : [5, 4, 1, 6]\n",
      "Ordering product batch 2 : [5, 4, 1, 6, 19]\n",
      "6 already existed, replace this item by shifting the pool!\n",
      "Conducting trial 1...\n",
      "Pool has been ordered : [14, 9, 2, 4, 12, 5, 0, 7, 10, 5, 4, 1, 6, 19, 11, 6, 3, 3, 12, 5, 13, 13, 16, 9, 11, 4, 8, 2, 16, 17, 5, 11, 13, 10, 16, 14, 1, 8, 6, 17, 10, 1, 19, 18, 11, 2, 15, 8, 15, 0, 17, 12, 19, 3, 7, 9, 0, 18, 16, 7, 15, 14, 18]\n",
      "Ordering product batch 2 : [5, 4, 1, 6, 19, 11]\n",
      "6 already existed, replace this item by shifting the pool!\n",
      "Conducting trial 1...\n",
      "Pool has been ordered : [14, 9, 2, 4, 12, 5, 0, 7, 10, 5, 4, 1, 6, 19, 11, 18, 6, 3, 3, 12, 5, 13, 13, 16, 9, 11, 4, 8, 2, 16, 17, 5, 11, 13, 10, 16, 14, 1, 8, 6, 17, 10, 1, 19, 18, 11, 2, 15, 8, 15, 0, 17, 12, 19, 3, 7, 9, 0, 18, 16, 7, 15, 14]\n",
      "Ordering product batch 2 : [5, 4, 1, 6, 19, 11, 18]\n",
      "6 already existed, replace this item by shifting the pool!\n",
      "Conducting trial 1...\n",
      "Pool has been ordered : [14, 9, 2, 4, 12, 5, 0, 7, 10, 5, 4, 1, 6, 19, 11, 18, 14, 6, 3, 3, 12, 5, 13, 13, 16, 9, 11, 4, 8, 2, 16, 17, 5, 11, 13, 10, 16, 14, 1, 8, 6, 17, 10, 1, 19, 18, 11, 2, 15, 8, 15, 0, 17, 12, 19, 3, 7, 9, 0, 18, 16, 7, 15]\n",
      "Ordering product batch 2 : [5, 4, 1, 6, 19, 11, 18, 14]\n",
      "6 already existed, replace this item by shifting the pool!\n",
      "Conducting trial 1...\n",
      "Pool has been ordered : [14, 9, 2, 4, 12, 5, 0, 7, 10, 5, 4, 1, 6, 19, 11, 18, 14, 15, 6, 3, 3, 12, 5, 13, 13, 16, 9, 11, 4, 8, 2, 16, 17, 5, 11, 13, 10, 16, 14, 1, 8, 6, 17, 10, 1, 19, 18, 11, 2, 15, 8, 15, 0, 17, 12, 19, 3, 7, 9, 0, 18, 16, 7]\n",
      "Ordering product batch 2 : [5, 4, 1, 6, 19, 11, 18, 14, 15]\n",
      "Creating product batch 3 ...\n",
      "Unordered product batch 3 : [6, 3, 3, 12, 5, 13, 13, 16, 9]\n",
      "Ordering product batch 3 : [6]\n",
      "Ordering product batch 3 : [6, 3]\n",
      "3 already existed, replace this item by shifting the pool!\n",
      "Conducting trial 1...\n",
      "Pool has been ordered : [14, 9, 2, 4, 12, 5, 0, 7, 10, 5, 4, 1, 6, 19, 11, 18, 14, 15, 6, 3, 7, 3, 12, 5, 13, 13, 16, 9, 11, 4, 8, 2, 16, 17, 5, 11, 13, 10, 16, 14, 1, 8, 6, 17, 10, 1, 19, 18, 11, 2, 15, 8, 15, 0, 17, 12, 19, 3, 7, 9, 0, 18, 16]\n",
      "Ordering product batch 3 : [6, 3, 7]\n",
      "3 already existed, replace this item by shifting the pool!\n",
      "Conducting trial 1...\n",
      "Pool has been ordered : [14, 9, 2, 4, 12, 5, 0, 7, 10, 5, 4, 1, 6, 19, 11, 18, 14, 15, 6, 3, 7, 16, 3, 12, 5, 13, 13, 16, 9, 11, 4, 8, 2, 16, 17, 5, 11, 13, 10, 16, 14, 1, 8, 6, 17, 10, 1, 19, 18, 11, 2, 15, 8, 15, 0, 17, 12, 19, 3, 7, 9, 0, 18]\n",
      "Ordering product batch 3 : [6, 3, 7, 16]\n",
      "3 already existed, replace this item by shifting the pool!\n",
      "Conducting trial 1...\n",
      "Pool has been ordered : [14, 9, 2, 4, 12, 5, 0, 7, 10, 5, 4, 1, 6, 19, 11, 18, 14, 15, 6, 3, 7, 16, 18, 3, 12, 5, 13, 13, 16, 9, 11, 4, 8, 2, 16, 17, 5, 11, 13, 10, 16, 14, 1, 8, 6, 17, 10, 1, 19, 18, 11, 2, 15, 8, 15, 0, 17, 12, 19, 3, 7, 9, 0]\n",
      "Ordering product batch 3 : [6, 3, 7, 16, 18]\n",
      "3 already existed, replace this item by shifting the pool!\n",
      "Conducting trial 1...\n",
      "Pool has been ordered : [14, 9, 2, 4, 12, 5, 0, 7, 10, 5, 4, 1, 6, 19, 11, 18, 14, 15, 6, 3, 7, 16, 18, 0, 3, 12, 5, 13, 13, 16, 9, 11, 4, 8, 2, 16, 17, 5, 11, 13, 10, 16, 14, 1, 8, 6, 17, 10, 1, 19, 18, 11, 2, 15, 8, 15, 0, 17, 12, 19, 3, 7, 9]\n",
      "Ordering product batch 3 : [6, 3, 7, 16, 18, 0]\n",
      "3 already existed, replace this item by shifting the pool!\n",
      "Conducting trial 1...\n",
      "Pool has been ordered : [14, 9, 2, 4, 12, 5, 0, 7, 10, 5, 4, 1, 6, 19, 11, 18, 14, 15, 6, 3, 7, 16, 18, 0, 9, 3, 12, 5, 13, 13, 16, 9, 11, 4, 8, 2, 16, 17, 5, 11, 13, 10, 16, 14, 1, 8, 6, 17, 10, 1, 19, 18, 11, 2, 15, 8, 15, 0, 17, 12, 19, 3, 7]\n",
      "Ordering product batch 3 : [6, 3, 7, 16, 18, 0, 9]\n",
      "3 already existed, replace this item by shifting the pool!\n",
      "Conducting trial 1...\n",
      "Pool has been ordered : [14, 9, 2, 4, 12, 5, 0, 7, 10, 5, 4, 1, 6, 19, 11, 18, 14, 15, 6, 3, 7, 16, 18, 0, 9, 7, 3, 12, 5, 13, 13, 16, 9, 11, 4, 8, 2, 16, 17, 5, 11, 13, 10, 16, 14, 1, 8, 6, 17, 10, 1, 19, 18, 11, 2, 15, 8, 15, 0, 17, 12, 19, 3]\n",
      "Conducting trial 2...\n",
      "Pool has been ordered : [14, 9, 2, 4, 12, 5, 0, 7, 10, 5, 4, 1, 6, 19, 11, 18, 14, 15, 6, 3, 7, 16, 18, 0, 9, 3, 7, 3, 12, 5, 13, 13, 16, 9, 11, 4, 8, 2, 16, 17, 5, 11, 13, 10, 16, 14, 1, 8, 6, 17, 10, 1, 19, 18, 11, 2, 15, 8, 15, 0, 17, 12, 19]\n",
      "Conducting trial 3...\n",
      "Pool has been ordered : [14, 9, 2, 4, 12, 5, 0, 7, 10, 5, 4, 1, 6, 19, 11, 18, 14, 15, 6, 3, 7, 16, 18, 0, 9, 19, 3, 7, 3, 12, 5, 13, 13, 16, 9, 11, 4, 8, 2, 16, 17, 5, 11, 13, 10, 16, 14, 1, 8, 6, 17, 10, 1, 19, 18, 11, 2, 15, 8, 15, 0, 17, 12]\n",
      "Ordering product batch 3 : [6, 3, 7, 16, 18, 0, 9, 19]\n",
      "3 already existed, replace this item by shifting the pool!\n",
      "Conducting trial 1...\n",
      "Pool has been ordered : [14, 9, 2, 4, 12, 5, 0, 7, 10, 5, 4, 1, 6, 19, 11, 18, 14, 15, 6, 3, 7, 16, 18, 0, 9, 19, 12, 3, 7, 3, 12, 5, 13, 13, 16, 9, 11, 4, 8, 2, 16, 17, 5, 11, 13, 10, 16, 14, 1, 8, 6, 17, 10, 1, 19, 18, 11, 2, 15, 8, 15, 0, 17]\n",
      "Ordering product batch 3 : [6, 3, 7, 16, 18, 0, 9, 19, 12]\n",
      "Creating product batch 4 ...\n",
      "Unordered product batch 4 : [3, 7, 3, 12, 5, 13, 13, 16, 9]\n",
      "Ordering product batch 4 : [3]\n",
      "Ordering product batch 4 : [3, 7]\n",
      "3 already existed, replace this item by shifting the pool!\n",
      "Conducting trial 1...\n",
      "Pool has been ordered : [14, 9, 2, 4, 12, 5, 0, 7, 10, 5, 4, 1, 6, 19, 11, 18, 14, 15, 6, 3, 7, 16, 18, 0, 9, 19, 12, 3, 7, 17, 3, 12, 5, 13, 13, 16, 9, 11, 4, 8, 2, 16, 17, 5, 11, 13, 10, 16, 14, 1, 8, 6, 17, 10, 1, 19, 18, 11, 2, 15, 8, 15, 0]\n",
      "Ordering product batch 4 : [3, 7, 17]\n",
      "3 already existed, replace this item by shifting the pool!\n",
      "Conducting trial 1...\n",
      "Pool has been ordered : [14, 9, 2, 4, 12, 5, 0, 7, 10, 5, 4, 1, 6, 19, 11, 18, 14, 15, 6, 3, 7, 16, 18, 0, 9, 19, 12, 3, 7, 17, 0, 3, 12, 5, 13, 13, 16, 9, 11, 4, 8, 2, 16, 17, 5, 11, 13, 10, 16, 14, 1, 8, 6, 17, 10, 1, 19, 18, 11, 2, 15, 8, 15]\n",
      "Ordering product batch 4 : [3, 7, 17, 0]\n",
      "3 already existed, replace this item by shifting the pool!\n",
      "Conducting trial 1...\n",
      "Pool has been ordered : [14, 9, 2, 4, 12, 5, 0, 7, 10, 5, 4, 1, 6, 19, 11, 18, 14, 15, 6, 3, 7, 16, 18, 0, 9, 19, 12, 3, 7, 17, 0, 15, 3, 12, 5, 13, 13, 16, 9, 11, 4, 8, 2, 16, 17, 5, 11, 13, 10, 16, 14, 1, 8, 6, 17, 10, 1, 19, 18, 11, 2, 15, 8]\n",
      "Ordering product batch 4 : [3, 7, 17, 0, 15]\n",
      "3 already existed, replace this item by shifting the pool!\n",
      "Conducting trial 1...\n",
      "Pool has been ordered : [14, 9, 2, 4, 12, 5, 0, 7, 10, 5, 4, 1, 6, 19, 11, 18, 14, 15, 6, 3, 7, 16, 18, 0, 9, 19, 12, 3, 7, 17, 0, 15, 8, 3, 12, 5, 13, 13, 16, 9, 11, 4, 8, 2, 16, 17, 5, 11, 13, 10, 16, 14, 1, 8, 6, 17, 10, 1, 19, 18, 11, 2, 15]\n",
      "Ordering product batch 4 : [3, 7, 17, 0, 15, 8]\n",
      "3 already existed, replace this item by shifting the pool!\n",
      "Conducting trial 1...\n",
      "Pool has been ordered : [14, 9, 2, 4, 12, 5, 0, 7, 10, 5, 4, 1, 6, 19, 11, 18, 14, 15, 6, 3, 7, 16, 18, 0, 9, 19, 12, 3, 7, 17, 0, 15, 8, 15, 3, 12, 5, 13, 13, 16, 9, 11, 4, 8, 2, 16, 17, 5, 11, 13, 10, 16, 14, 1, 8, 6, 17, 10, 1, 19, 18, 11, 2]\n",
      "Conducting trial 2...\n",
      "Pool has been ordered : [14, 9, 2, 4, 12, 5, 0, 7, 10, 5, 4, 1, 6, 19, 11, 18, 14, 15, 6, 3, 7, 16, 18, 0, 9, 19, 12, 3, 7, 17, 0, 15, 8, 2, 15, 3, 12, 5, 13, 13, 16, 9, 11, 4, 8, 2, 16, 17, 5, 11, 13, 10, 16, 14, 1, 8, 6, 17, 10, 1, 19, 18, 11]\n",
      "Ordering product batch 4 : [3, 7, 17, 0, 15, 8, 2]\n",
      "15 already existed, replace this item by shifting the pool!\n",
      "Conducting trial 1...\n",
      "Pool has been ordered : [14, 9, 2, 4, 12, 5, 0, 7, 10, 5, 4, 1, 6, 19, 11, 18, 14, 15, 6, 3, 7, 16, 18, 0, 9, 19, 12, 3, 7, 17, 0, 15, 8, 2, 11, 15, 3, 12, 5, 13, 13, 16, 9, 11, 4, 8, 2, 16, 17, 5, 11, 13, 10, 16, 14, 1, 8, 6, 17, 10, 1, 19, 18]\n",
      "Ordering product batch 4 : [3, 7, 17, 0, 15, 8, 2, 11]\n",
      "15 already existed, replace this item by shifting the pool!\n",
      "Conducting trial 1...\n",
      "Pool has been ordered : [14, 9, 2, 4, 12, 5, 0, 7, 10, 5, 4, 1, 6, 19, 11, 18, 14, 15, 6, 3, 7, 16, 18, 0, 9, 19, 12, 3, 7, 17, 0, 15, 8, 2, 11, 18, 15, 3, 12, 5, 13, 13, 16, 9, 11, 4, 8, 2, 16, 17, 5, 11, 13, 10, 16, 14, 1, 8, 6, 17, 10, 1, 19]\n",
      "Ordering product batch 4 : [3, 7, 17, 0, 15, 8, 2, 11, 18]\n",
      "Creating product batch 5 ...\n",
      "Unordered product batch 5 : [15, 3, 12, 5, 13, 13, 16, 9, 11]\n",
      "Ordering product batch 5 : [15]\n",
      "Ordering product batch 5 : [15, 3]\n",
      "Ordering product batch 5 : [15, 3, 12]\n",
      "Ordering product batch 5 : [15, 3, 12, 5]\n",
      "Ordering product batch 5 : [15, 3, 12, 5, 13]\n",
      "13 already existed, replace this item by shifting the pool!\n",
      "Conducting trial 1...\n",
      "Pool has been ordered : [14, 9, 2, 4, 12, 5, 0, 7, 10, 5, 4, 1, 6, 19, 11, 18, 14, 15, 6, 3, 7, 16, 18, 0, 9, 19, 12, 3, 7, 17, 0, 15, 8, 2, 11, 18, 15, 3, 12, 5, 13, 19, 13, 16, 9, 11, 4, 8, 2, 16, 17, 5, 11, 13, 10, 16, 14, 1, 8, 6, 17, 10, 1]\n",
      "Ordering product batch 5 : [15, 3, 12, 5, 13, 19]\n",
      "13 already existed, replace this item by shifting the pool!\n",
      "Conducting trial 1...\n",
      "Pool has been ordered : [14, 9, 2, 4, 12, 5, 0, 7, 10, 5, 4, 1, 6, 19, 11, 18, 14, 15, 6, 3, 7, 16, 18, 0, 9, 19, 12, 3, 7, 17, 0, 15, 8, 2, 11, 18, 15, 3, 12, 5, 13, 19, 1, 13, 16, 9, 11, 4, 8, 2, 16, 17, 5, 11, 13, 10, 16, 14, 1, 8, 6, 17, 10]\n",
      "Ordering product batch 5 : [15, 3, 12, 5, 13, 19, 1]\n",
      "13 already existed, replace this item by shifting the pool!\n",
      "Conducting trial 1...\n",
      "Pool has been ordered : [14, 9, 2, 4, 12, 5, 0, 7, 10, 5, 4, 1, 6, 19, 11, 18, 14, 15, 6, 3, 7, 16, 18, 0, 9, 19, 12, 3, 7, 17, 0, 15, 8, 2, 11, 18, 15, 3, 12, 5, 13, 19, 1, 10, 13, 16, 9, 11, 4, 8, 2, 16, 17, 5, 11, 13, 10, 16, 14, 1, 8, 6, 17]\n",
      "Ordering product batch 5 : [15, 3, 12, 5, 13, 19, 1, 10]\n",
      "13 already existed, replace this item by shifting the pool!\n",
      "Conducting trial 1...\n",
      "Pool has been ordered : [14, 9, 2, 4, 12, 5, 0, 7, 10, 5, 4, 1, 6, 19, 11, 18, 14, 15, 6, 3, 7, 16, 18, 0, 9, 19, 12, 3, 7, 17, 0, 15, 8, 2, 11, 18, 15, 3, 12, 5, 13, 19, 1, 10, 17, 13, 16, 9, 11, 4, 8, 2, 16, 17, 5, 11, 13, 10, 16, 14, 1, 8, 6]\n",
      "Ordering product batch 5 : [15, 3, 12, 5, 13, 19, 1, 10, 17]\n",
      "Creating product batch 6 ...\n",
      "Unordered product batch 6 : [13, 16, 9, 11, 4, 8, 2, 16, 17]\n",
      "Ordering product batch 6 : [13]\n",
      "Ordering product batch 6 : [13, 16]\n",
      "Ordering product batch 6 : [13, 16, 9]\n",
      "Ordering product batch 6 : [13, 16, 9, 11]\n",
      "Ordering product batch 6 : [13, 16, 9, 11, 4]\n",
      "Ordering product batch 6 : [13, 16, 9, 11, 4, 8]\n",
      "Ordering product batch 6 : [13, 16, 9, 11, 4, 8, 2]\n",
      "16 already existed, replace this item by shifting the pool!\n",
      "Conducting trial 1...\n",
      "Pool has been ordered : [14, 9, 2, 4, 12, 5, 0, 7, 10, 5, 4, 1, 6, 19, 11, 18, 14, 15, 6, 3, 7, 16, 18, 0, 9, 19, 12, 3, 7, 17, 0, 15, 8, 2, 11, 18, 15, 3, 12, 5, 13, 19, 1, 10, 17, 13, 16, 9, 11, 4, 8, 2, 6, 16, 17, 5, 11, 13, 10, 16, 14, 1, 8]\n",
      "Ordering product batch 6 : [13, 16, 9, 11, 4, 8, 2, 6]\n",
      "16 already existed, replace this item by shifting the pool!\n",
      "Conducting trial 1...\n",
      "Pool has been ordered : [14, 9, 2, 4, 12, 5, 0, 7, 10, 5, 4, 1, 6, 19, 11, 18, 14, 15, 6, 3, 7, 16, 18, 0, 9, 19, 12, 3, 7, 17, 0, 15, 8, 2, 11, 18, 15, 3, 12, 5, 13, 19, 1, 10, 17, 13, 16, 9, 11, 4, 8, 2, 6, 8, 16, 17, 5, 11, 13, 10, 16, 14, 1]\n",
      "Conducting trial 2...\n",
      "Pool has been ordered : [14, 9, 2, 4, 12, 5, 0, 7, 10, 5, 4, 1, 6, 19, 11, 18, 14, 15, 6, 3, 7, 16, 18, 0, 9, 19, 12, 3, 7, 17, 0, 15, 8, 2, 11, 18, 15, 3, 12, 5, 13, 19, 1, 10, 17, 13, 16, 9, 11, 4, 8, 2, 6, 1, 8, 16, 17, 5, 11, 13, 10, 16, 14]\n",
      "Ordering product batch 6 : [13, 16, 9, 11, 4, 8, 2, 6, 1]\n",
      "Creating product batch 7 ...\n",
      "Unordered product batch 7 : [8, 16, 17, 5, 11, 13, 10, 16, 14]\n",
      "Creating last product batch...\n",
      "16 is found having duplicate, fixing this issue...\n",
      "Ordering product batch 7 : [ 8  1 17  5 11 13 10 16 14]\n",
      "Ordering product batch 7 : [ 8  1 17  5 11 13 10 16 14]\n"
     ]
    }
   ],
   "source": [
    "random_batch,bincount=create_random_set(random_basic)"
   ]
  },
  {
   "cell_type": "code",
   "execution_count": 49,
   "id": "24c3787f-14db-4898-a151-85b26177e7ce",
   "metadata": {},
   "outputs": [
    {
     "data": {
      "text/plain": [
       "False"
      ]
     },
     "execution_count": 49,
     "metadata": {},
     "output_type": "execute_result"
    }
   ],
   "source": [
    "check_row_similarity(random_batch)"
   ]
  },
  {
   "cell_type": "code",
   "execution_count": 58,
   "id": "936aa3ba-a965-4fa5-b09b-a5d0a56a0afa",
   "metadata": {},
   "outputs": [
    {
     "data": {
      "text/plain": [
       "array([3, 4, 3, 3, 3, 4, 3, 3, 3, 3, 3, 4, 3, 3, 3, 3, 3, 3, 3, 3])"
      ]
     },
     "execution_count": 58,
     "metadata": {},
     "output_type": "execute_result"
    }
   ],
   "source": [
    "bincount"
   ]
  },
  {
   "cell_type": "code",
   "execution_count": 51,
   "id": "6a725612-f4e7-4353-97bd-48d8c9e6d591",
   "metadata": {},
   "outputs": [
    {
     "data": {
      "text/plain": [
       "array([[14,  9,  2,  4, 12,  5,  0,  7, 10],\n",
       "       [ 5,  4,  1,  6, 19, 11, 18, 14, 15],\n",
       "       [ 6,  3,  7, 16, 18,  0,  9, 19, 12],\n",
       "       [ 3,  7, 17,  0, 15,  8,  2, 11, 18],\n",
       "       [15,  3, 12,  5, 13, 19,  1, 10, 17],\n",
       "       [13, 16,  9, 11,  4,  8,  2,  6,  1],\n",
       "       [ 8,  1, 17,  5, 11, 13, 10, 16, 14]])"
      ]
     },
     "execution_count": 51,
     "metadata": {},
     "output_type": "execute_result"
    }
   ],
   "source": [
    "random_batch"
   ]
  },
  {
   "cell_type": "code",
   "execution_count": 56,
   "id": "9bb475cc-266c-4472-81de-bbec739912f3",
   "metadata": {},
   "outputs": [
    {
     "data": {
      "text/plain": [
       "False"
      ]
     },
     "execution_count": 56,
     "metadata": {},
     "output_type": "execute_result"
    }
   ],
   "source": [
    "any(np.where(bincount < 2)[0])"
   ]
  },
  {
   "cell_type": "code",
   "execution_count": null,
   "id": "0cff0a25-38d9-46ef-b221-1f369bd5a0d6",
   "metadata": {},
   "outputs": [],
   "source": []
  },
  {
   "cell_type": "code",
   "execution_count": 57,
   "id": "4f5a4434-30e6-4961-8286-5ebda55ca60d",
   "metadata": {},
   "outputs": [
    {
     "data": {
      "text/plain": [
       "True"
      ]
     },
     "execution_count": 57,
     "metadata": {},
     "output_type": "execute_result"
    }
   ],
   "source": [
    "any(bincount)"
   ]
  },
  {
   "cell_type": "code",
   "execution_count": null,
   "id": "42f67b77-43ac-4552-af9c-71dad71cf7f1",
   "metadata": {},
   "outputs": [],
   "source": []
  },
  {
   "cell_type": "code",
   "execution_count": 134,
   "id": "0a5fbcda-182e-4c58-9200-0c00cc9e3dce",
   "metadata": {},
   "outputs": [],
   "source": [
    "import itertools\n",
    "import random\n",
    "example = np.arange(20).astype(int)\n",
    "def get_random_combi(arr, n_combi, r , *args, **kwargs):\n",
    "    iterable_combi = itertools.combinations(arr,r)\n",
    "    pool = tuple(iterable_combi)\n",
    "    n_pool = len(pool)\n",
    "    indices_ = sorted(random.sample(range(n_pool),n_combi))\n",
    "    return tuple(pool[i] for i in indices_)"
   ]
  },
  {
   "cell_type": "code",
   "execution_count": 155,
   "id": "d674ef6d-51cd-4195-8c47-aff2ace22577",
   "metadata": {},
   "outputs": [
    {
     "data": {
      "text/plain": [
       "[array([1929, 4874, 1022, 4314, 912, 136, 4315, 4036, 4226, 272],\n",
       "       dtype=object),\n",
       " array([614, 468, 40, 7762, 8447, 361, 2817, 1375, 2073, 4646],\n",
       "       dtype=object),\n",
       " array([8275, 6095, 86, 115, 12686, 938, 261, 16341, 233, 1609],\n",
       "       dtype=object),\n",
       " array([130, 8554, 3330, 14035, 1612, 1161, 68, 173, 6054, 11117],\n",
       "       dtype=object),\n",
       " array([171, 5567, 2349, 239, 3366, 33, 4671, 2462, 222, 4719],\n",
       "       dtype=object),\n",
       " array([1446, 22137, 4553, 167, 613, 1325, 1154, 2438, 4162, 2241],\n",
       "       dtype=object),\n",
       " array([56, 2245, 31, 22284, 2204, 4328, 2733, 142, 9982, 1279],\n",
       "       dtype=object),\n",
       " array([226, 20, 6497, 725, 5788, 323, 5505, 1374, 998, 4322], dtype=object),\n",
       " array([997, 506, 7344, 5002, 232, 2022, 6503, 2268, 10704, 3407],\n",
       "       dtype=object),\n",
       " array([8527, 5442, 135, 4131, 3451, 2430, 4333, 762, 3660, 144],\n",
       "       dtype=object),\n",
       " array([816, 85, 13579, 7888, 73, 58, 3576, 398, 616, 3311], dtype=object),\n",
       " array([939, 4023, 35, 22340, 6228, 1457, 4334, 290, 24, 220], dtype=object),\n",
       " array([399, 515, 131, 1713, 4670, 50, 8795, 4320, 4137, 3321],\n",
       "       dtype=object),\n",
       " array([114, 3505, 1324, 980, 4318, 2636, 4579, 999, 7492, 84],\n",
       "       dtype=object),\n",
       " array([4317, 126, 2395, 400, 11096, 2164, 199, 49, 6394, 5634],\n",
       "       dtype=object)]"
      ]
     },
     "execution_count": 155,
     "metadata": {},
     "output_type": "execute_result"
    }
   ],
   "source": [
    "pareto_permute_set"
   ]
  },
  {
   "cell_type": "code",
   "execution_count": 143,
   "id": "c70554b7-5578-44b4-a8d7-bf29193dea5f",
   "metadata": {},
   "outputs": [
    {
     "data": {
      "text/plain": [
       "array([18, 12, 15,  1,  0, 19,  8, 14,  1, 19, 11,  6,  7,  7, 15, 12,  4,\n",
       "        2,  2,  7,  5,  6,  5,  2,  3,  0, 18, 10,  3,  9, 19, 12,  9, 13,\n",
       "        8,  6, 18, 14, 16, 15, 16, 17, 16,  0, 11, 17, 10,  3, 11, 17,  8,\n",
       "        1, 13,  4, 14, 13,  5,  4, 10,  9])"
      ]
     },
     "execution_count": 143,
     "metadata": {},
     "output_type": "execute_result"
    }
   ],
   "source": [
    "s = np.random.permutation(np.array(list(example)*3))\n",
    "s"
   ]
  },
  {
   "cell_type": "code",
   "execution_count": null,
   "id": "fc3515f4-e6fd-48a3-8f9a-4bc9c05dd44c",
   "metadata": {},
   "outputs": [],
   "source": [
    "idx = 0\n",
    "max_trial = 10\n",
    "for i in len(s):\n",
    "    if i==0 or i%9==8\n",
    "        a = []\n",
    "    else:\n",
    "        pass\n",
    "    a.append(s[i])\n",
    "    if len(set(a)) == len(a) :\n",
    "        pass\n",
    "    else :\n",
    "        trial = 0\n",
    "        while trial < max_trial :\n",
    "            s[i:] = s[\n",
    "        \n",
    "        \n",
    "        \n",
    "        "
   ]
  },
  {
   "cell_type": "code",
   "execution_count": 296,
   "id": "1fb91ddf-43ef-42df-b9e9-9df7b09a5037",
   "metadata": {},
   "outputs": [
    {
     "data": {
      "text/plain": [
       "array([[1, 2, 3]])"
      ]
     },
     "execution_count": 296,
     "metadata": {},
     "output_type": "execute_result"
    }
   ],
   "source": [
    "np.array([list([1,2,3])])"
   ]
  },
  {
   "cell_type": "code",
   "execution_count": 149,
   "id": "9446c717-1b55-431f-80ed-0b8adb02882e",
   "metadata": {},
   "outputs": [
    {
     "data": {
      "text/plain": [
       "True"
      ]
     },
     "execution_count": 149,
     "metadata": {},
     "output_type": "execute_result"
    }
   ],
   "source": [
    "True or False"
   ]
  },
  {
   "cell_type": "code",
   "execution_count": 153,
   "id": "a747d697-1de6-4f94-8abb-bbcc9fdc0658",
   "metadata": {},
   "outputs": [
    {
     "data": {
      "text/plain": [
       "8"
      ]
     },
     "execution_count": 153,
     "metadata": {},
     "output_type": "execute_result"
    }
   ],
   "source": [
    "17%9"
   ]
  },
  {
   "cell_type": "code",
   "execution_count": 297,
   "id": "1fb71128-1d16-4e21-a161-628bc9ce5a0f",
   "metadata": {},
   "outputs": [
    {
     "data": {
      "text/plain": [
       "1"
      ]
     },
     "execution_count": 297,
     "metadata": {},
     "output_type": "execute_result"
    }
   ],
   "source": [
    "np.random.choice([1,2,3])"
   ]
  },
  {
   "cell_type": "code",
   "execution_count": 11,
   "id": "40775cc8-1353-420e-8243-cb862ca09eac",
   "metadata": {},
   "outputs": [
    {
     "name": "stdout",
     "output_type": "stream",
     "text": [
      "0\n",
      "0\n",
      "0\n",
      "0\n",
      "0\n",
      "0\n",
      "1\n",
      "1\n",
      "1\n",
      "1\n",
      "1\n",
      "2\n",
      "2\n",
      "2\n",
      "2\n",
      "3\n",
      "3\n",
      "3\n",
      "4\n",
      "4\n",
      "5\n"
     ]
    }
   ],
   "source": [
    "for i in itertools.combinations([0,1,2,3,4,5,6],2):\n",
    "    print(i[0])"
   ]
  },
  {
   "cell_type": "code",
   "execution_count": 35,
   "id": "cdae985f-99ed-4f18-afe0-e1f5dfd3a07f",
   "metadata": {},
   "outputs": [
    {
     "data": {
      "text/plain": [
       "array([2, 3, 4, 5, 6])"
      ]
     },
     "execution_count": 35,
     "metadata": {},
     "output_type": "execute_result"
    }
   ],
   "source": [
    "np.array(list(set([2,3,4,5,5,6,3])))"
   ]
  },
  {
   "cell_type": "code",
   "execution_count": 1,
   "id": "c8c241fd-02ae-48e7-85e0-935e55972c1f",
   "metadata": {},
   "outputs": [
    {
     "ename": "NameError",
     "evalue": "name 'np' is not defined",
     "output_type": "error",
     "traceback": [
      "\u001b[0;31m---------------------------------------------------------------------------\u001b[0m",
      "\u001b[0;31mNameError\u001b[0m                                 Traceback (most recent call last)",
      "Cell \u001b[0;32mIn [1], line 1\u001b[0m\n\u001b[0;32m----> 1\u001b[0m \u001b[43mnp\u001b[49m\u001b[38;5;241m.\u001b[39mbincount([\u001b[38;5;241m1\u001b[39m,\u001b[38;5;241m3\u001b[39m,\u001b[38;5;241m4\u001b[39m])\n",
      "\u001b[0;31mNameError\u001b[0m: name 'np' is not defined"
     ]
    }
   ],
   "source": [
    "np.bincount([1,3,4])"
   ]
  },
  {
   "cell_type": "code",
   "execution_count": 2,
   "id": "6a59c2ef-3362-407d-b55d-5cfae85a389b",
   "metadata": {},
   "outputs": [
    {
     "ename": "NameError",
     "evalue": "name 'np' is not defined",
     "output_type": "error",
     "traceback": [
      "\u001b[0;31m---------------------------------------------------------------------------\u001b[0m",
      "\u001b[0;31mNameError\u001b[0m                                 Traceback (most recent call last)",
      "Cell \u001b[0;32mIn [2], line 1\u001b[0m\n\u001b[0;32m----> 1\u001b[0m \u001b[43mnp\u001b[49m\u001b[38;5;241m.\u001b[39marray(\u001b[38;5;241m1\u001b[39m)\n",
      "\u001b[0;31mNameError\u001b[0m: name 'np' is not defined"
     ]
    }
   ],
   "source": [
    "np.array(1)"
   ]
  },
  {
   "cell_type": "code",
   "execution_count": null,
   "id": "544164f1-60b8-4be7-aa1d-7d98de476768",
   "metadata": {},
   "outputs": [],
   "source": []
  }
 ],
 "metadata": {
  "kernelspec": {
   "display_name": "venv_gamification_experiment",
   "language": "python",
   "name": "venv_gamification_experiment"
  },
  "language_info": {
   "codemirror_mode": {
    "name": "ipython",
    "version": 3
   },
   "file_extension": ".py",
   "mimetype": "text/x-python",
   "name": "python",
   "nbconvert_exporter": "python",
   "pygments_lexer": "ipython3",
   "version": "3.8.10"
  }
 },
 "nbformat": 4,
 "nbformat_minor": 5
}
